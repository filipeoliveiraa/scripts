{
 "metadata": {
  "name": "",
  "signature": "sha256:c7ea4a5b1c8e9b7efcc2659767a66d4e0f3777df4716b0cf064ada24862e455d"
 },
 "nbformat": 3,
 "nbformat_minor": 0,
 "worksheets": [
  {
   "cells": [
    {
     "cell_type": "code",
     "collapsed": false,
     "input": [
      "import facebook\n",
      "import json\n",
      "import networkx as nx # pip install networkx\n",
      "import requests # pip install requests\n",
      "\n",
      "ACCESS_TOKEN = \"CAACEdEose0cBACP93Tz4ohc4sLLi0ZC0BPRNUULh0iLuRyNsxiDHtCzZCLZAHoJgmCqGzYEpdSQDjoyrztQh2s8munfLOvujhQ1oQYx6mznZBdt31uoZA4cnjlQtRJS3IVfZBF9D214uPyBb8N41ZBZBtytoNyKvWMo749M81C9W7kkatEZBNTTbQpwfZBQndwkfpWbFeEXPbnwcxAnr0SYIlfkiPGgLsA90AZD\"\n",
      "\n",
      "g = facebook.GraphAPI(ACCESS_TOKEN)\n",
      "\n",
      "\n",
      "friends = [ (friend['id'], friend['name'],)\n",
      "                for friend in g.get_connections('me', 'friends')['data'] ]\n",
      "\n",
      "url = 'https://graph.facebook.com/me/mutualfriends/%s?access_token=%s'\n",
      "\n",
      "mutual_friends = {} \n",
      "\n",
      "# This loop spawns a separate request for each iteration, so\n",
      "# it may take a while. Optimization with a thread pool or similar\n",
      "# technique would be possible.\n",
      "for friend_id, friend_name in friends:\n",
      "    r = requests.get(url % (friend_id, ACCESS_TOKEN,) )\n",
      "    response_data = json.loads(r.content)['data']\n",
      "    mutual_friends[friend_name] = [ data['name'] \n",
      "                                    for data in response_data ]\n",
      "    \n",
      "nxg = nx.Graph()\n",
      "\n",
      "[ nxg.add_edge('me', mf) for mf in mutual_friends ]\n",
      "\n",
      "[ nxg.add_edge(f1, f2) \n",
      "  for f1 in mutual_friends \n",
      "      for f2 in mutual_friends[f1] ]\n",
      "\n",
      "# Explore what's possible to do with the graph by \n",
      "# typing nxg.<tab> or executing a new cell with \n",
      "# the following value in it to see some pydoc on nxg\n",
      "print nxg\n",
      "\n",
      "cliques = [c for c in nx.find_cliques(nxg)]\n",
      "\n",
      "num_cliques = len(cliques)\n",
      "\n",
      "clique_sizes = [len(c) for c in cliques]\n",
      "max_clique_size = max(clique_sizes)\n",
      "avg_clique_size = sum(clique_sizes) / num_cliques\n",
      "\n",
      "max_cliques = [c for c in cliques if len(c) == max_clique_size]\n",
      "\n",
      "num_max_cliques = len(max_cliques)\n",
      "\n",
      "max_clique_sets = [set(c) for c in max_cliques]\n",
      "friends_in_all_max_cliques = list(reduce(lambda x, y: x.intersection(y),\n",
      "                                  max_clique_sets))\n",
      "\n",
      "print 'Num cliques:', num_cliques\n",
      "print 'Avg clique size:', avg_clique_size\n",
      "print 'Max clique size:', max_clique_size\n",
      "print 'Num max cliques:', num_max_cliques\n",
      "print\n",
      "print 'Friends in all max cliques:'\n",
      "print json.dumps(friends_in_all_max_cliques, indent=1)\n",
      "print\n",
      "print 'Max cliques:'\n",
      "print json.dumps(max_cliques, indent=1)\n"
     ],
     "language": "python",
     "metadata": {},
     "outputs": [
      {
       "output_type": "stream",
       "stream": "stdout",
       "text": [
        "\n",
        "Num cliques: 7\n",
        "Avg clique size: 2\n",
        "Max clique size: 3\n",
        "Num max cliques: 3\n",
        "\n",
        "Friends in all max cliques:\n",
        "[\n",
        " \"me\"\n",
        "]\n",
        "\n",
        "Max cliques:\n",
        "[\n",
        " [\n",
        "  \"me\", \n",
        "  \"Kentaro Hagiwara\", \n",
        "  \"Yamazaki Satoshi\"\n",
        " ], \n",
        " [\n",
        "  \"me\", \n",
        "  \"Yusaku Hashimoto\", \n",
        "  \"Motoki Nakagawa\"\n",
        " ], \n",
        " [\n",
        "  \"me\", \n",
        "  \"Yusaku Hashimoto\", \n",
        "  \"Kohei Noda\"\n",
        " ]\n",
        "]\n"
       ]
      }
     ],
     "prompt_number": 9
    },
    {
     "cell_type": "code",
     "collapsed": false,
     "input": [],
     "language": "python",
     "metadata": {},
     "outputs": [],
     "prompt_number": 5
    },
    {
     "cell_type": "code",
     "collapsed": false,
     "input": [],
     "language": "python",
     "metadata": {},
     "outputs": [],
     "prompt_number": 5
    },
    {
     "cell_type": "code",
     "collapsed": false,
     "input": [
      "from networkx.readwrite import json_graph\n",
      "\n",
      "nld = json_graph.node_link_data(nxg)\n",
      "\n",
      "json.dump(nld, open('resources/ch02-facebook/viz/force.json','w'))\n",
      "\n",
      "\n",
      "\n"
     ],
     "language": "python",
     "metadata": {},
     "outputs": [
      {
       "html": [
        "\n",
        "        <iframe\n",
        "            width=\"100%\"\n",
        "            height=600px\"\n",
        "            src=\"files/force.html\"\n",
        "            frameborder=\"0\"\n",
        "            allowfullscreen\n",
        "        ></iframe>\n",
        "        "
       ],
       "metadata": {},
       "output_type": "display_data",
       "text": [
        "<IPython.lib.display.IFrame at 0xaeee2cc>"
       ]
      }
     ],
     "prompt_number": 19
    },
    {
     "cell_type": "code",
     "collapsed": false,
     "input": [],
     "language": "python",
     "metadata": {},
     "outputs": [],
     "prompt_number": 19
    },
    {
     "cell_type": "code",
     "collapsed": false,
     "input": [],
     "language": "python",
     "metadata": {},
     "outputs": []
    }
   ],
   "metadata": {}
  }
 ]
}